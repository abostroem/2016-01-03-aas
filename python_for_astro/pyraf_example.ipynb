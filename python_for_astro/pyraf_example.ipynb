{
 "cells": [
  {
   "cell_type": "code",
   "execution_count": 1,
   "metadata": {
    "collapsed": true
   },
   "outputs": [],
   "source": [
    "import pyraf\n",
    "from pyraf import iraf"
   ]
  },
  {
   "cell_type": "code",
   "execution_count": 11,
   "metadata": {
    "collapsed": false
   },
   "outputs": [
    {
     "name": "stdout",
     "output_type": "stream",
     "text": [
      "       images = \"jcnj02yrq_flt.fits1.psf.3.fits[0]\" image names\n",
      "      (imlist = \"*.imh,*.fits,*.pl,*.qp,*.hhh\") default image names\n",
      "  (longheader = no)             print header in multi-line format\n",
      "  (userfields = yes)            print the user fields (instrument parameters)\n",
      "        (mode = \"al\")           \n"
     ]
    }
   ],
   "source": [
    "iraf.imhead.lParam()"
   ]
  },
  {
   "cell_type": "code",
   "execution_count": 14,
   "metadata": {
    "collapsed": false
   },
   "outputs": [
    {
     "name": "stdout",
     "output_type": "stream",
     "text": [
      "spectrum.fits[0][0][short]: \n",
      "No bad pixels, min=0., max=0. (old)\n",
      "Line storage mode, physdim [0], length of user area 41 s.u.\n",
      "Created Sat 15:48:40 02-Jan-2016, Last modified Sat 15:48:40 02-Jan-2016\n",
      "Pixel file \"spectrum.fits\" [NO PIXEL FILE]\n",
      "EXTEND  =                    T\n"
     ]
    }
   ],
   "source": [
    "iraf.imhead('spectrum.fits[0]', longheader = 'yes')"
   ]
  },
  {
   "cell_type": "code",
   "execution_count": null,
   "metadata": {
    "collapsed": true
   },
   "outputs": [],
   "source": []
  }
 ],
 "metadata": {
  "kernelspec": {
   "display_name": "Python 2",
   "language": "python",
   "name": "python2"
  },
  "language_info": {
   "codemirror_mode": {
    "name": "ipython",
    "version": 2
   },
   "file_extension": ".py",
   "mimetype": "text/x-python",
   "name": "python",
   "nbconvert_exporter": "python",
   "pygments_lexer": "ipython2",
   "version": "2.7.5"
  }
 },
 "nbformat": 4,
 "nbformat_minor": 0
}
